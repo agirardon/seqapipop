{
 "cells": [
  {
   "cell_type": "markdown",
   "id": "1f5898e6",
   "metadata": {},
   "source": [
    "### Admixture Analyse \n",
    "\n",
    "\n",
    "Suite au filtrage LD avec les 601 945 SNPs, il est obtenu 590 724 SNPs qui ont donc subit un filtrage LD indirectement, en effet puisqu'ils sont matchés avec des SNPs déjà filtrés par LD=0.3 on considère que ceux la aussi aurait aussi \"passer\" le filtre LD=0.3 \n",
    "\n",
    "\n",
    "\n",
    "On va donc utiliser Plink pour obtenir le .bed necessaire à l'Admixture\n",
    "\n",
    "Ensuite on doit changer les noms de chromosomes en chiffres car Admixture accepte seulement les noms de chromosomes humains. Pour cela on passe les noms de chromosome en chiffres de 1 à 16 \n",
    "\n",
    "Enfin on effectue l'Admixture\n",
    "\n",
    "\n",
    "\n",
    "Pour cela, on lance le script Admixture.sh :\n",
    "\n",
    "\n",
    "\n",
    "```bash\n",
    "#!/bin/sh \n",
    "\n",
    "#Chargement des modules\n",
    "\n",
    "module load -f /home/agirardon/work/seqapipopOnHAV3_1/program_module/module\n",
    "\n",
    "#Variables\n",
    "\n",
    "VCF=/home/agirardon/work/seqapipopOnHAV3_1/combineGVCFs/LesVCF/Concatenate/outisecautresens/MetaGenotypesCalled403_raw_snps_filtre_isec_plink.vcf.gz \n",
    "OUT=SeqApiPop403\n",
    "\n",
    "# Generer les input file dans le format plink\n",
    "\n",
    "plink --vcf $VCF --allow-extra-chr --make-bed --out $OUT \\\n",
    "\n",
    "# ADMIXTURE accept pas les noms de chromosome qui ne sont pas humains donc on change les noms de chromosomes par chiffre de 1 à 16 \n",
    "\n",
    "sed -i -e 's/NC_037638.1/1/g' $OUT.bim \n",
    "sed -i -e 's/NC_037639.1/2/g' $OUT.bim\n",
    "sed -i -e 's/NC_037640.1/3/g' $OUT.bim\n",
    "sed -i -e 's/NC_037641.1/4/g' $OUT.bim\n",
    "sed -i -e 's/NC_037642.1/5/g' $OUT.bim\n",
    "sed -i -e 's/NC_037643.1/6/g' $OUT.bim\n",
    "sed -i -e 's/NC_037644.1/7/g' $OUT.bim\n",
    "sed -i -e 's/NC_037645.1/8/g' $OUT.bim\n",
    "sed -i -e 's/NC_037646.1/9/g' $OUT.bim\n",
    "sed -i -e 's/NC_037647.1/10/g' $OUT.bim\n",
    "sed -i -e 's/NC_037648.1/11/g' $OUT.bim\n",
    "sed -i -e 's/NC_037649.1/12/g' $OUT.bim\n",
    "sed -i -e 's/NC_037650.1/13/g' $OUT.bim\n",
    "sed -i -e 's/NC_037651.1/14/g' $OUT.bim\n",
    "sed -i -e 's/NC_037652.1/15/g' $OUT.bim\n",
    "sed -i -e 's/NC_037653.1/16/g' $OUT.bim\n",
    "\n",
    "\n",
    "\n",
    "\n",
    "#ADMIXTURE\n",
    "\n",
    "for K in {2..16}\n",
    "do\n",
    "\tadmixture --cv  $OUT.bed $K > log${K}.out\n",
    "\t\n",
    "done\n",
    "\n",
    "```\n",
    "\n",
    "Plusieurs fichiers sont donc obtenues : \n",
    "\n",
    "- Les logX.out contenant la valeur de CV  \n",
    "- les SeqApiPop403.X.Q contenant la Q matrix servant pour ploter l'Admixture\n",
    "\n",
    "Pour identifier la meilleure valeur de k clusters, correspondant à la valeur de cross validation la plus faible, on collecte les CV errors grâce au script:  ObtainCVerror.sh\n",
    "\n",
    "```bash\n",
    "#!/bin/bash\n",
    "\n",
    "#obtainCVerrorAllSeqApiPop.bash\n",
    "\n",
    "\n",
    "grep CV log* | \\\n",
    "    awk -v var=\"$i\" 'BEGIN{OFS=\"\\t\"}{print $3,$4, var}' | \\\n",
    "    sed 's/(K=//' | \\\n",
    "    sed 's/)://' | \\\n",
    "    awk 'BEGIN{FS=\"_\";OFS=\"\\t\"}{print $1,$4,$3}' | \\\n",
    "    awk 'BEGIN{OFS=\"\\t\"}{print $1,$2,$4,$5}' > CV_error\n",
    "```\n",
    "\n",
    "On a donc toutes les valeurs de CVerror :\n",
    "\n",
    "```bash\n",
    "less CV_error\n",
    "```\n",
    "\n",
    "```\n",
    "10      0.47957         \n",
    "11      0.48664         \n",
    "2       0.50381         \n",
    "3       0.49099         \n",
    "4       0.48733         \n",
    "5       0.48134         \n",
    "6       0.47882         \n",
    "7       0.47483         \n",
    "8       0.47760         \n",
    "9       0.47784   \n",
    "```\n",
    "\n",
    "On va donc maintenant pouvoir ploter les CV errors :\n",
    "\n"
   ]
  },
  {
   "cell_type": "code",
   "execution_count": 65,
   "id": "890c2208",
   "metadata": {},
   "outputs": [],
   "source": [
    "setwd(\"/home/avignal/Stage_M2/Admixture\")"
   ]
  },
  {
   "cell_type": "code",
   "execution_count": 67,
   "id": "8f16cf9d",
   "metadata": {},
   "outputs": [
    {
     "data": {
      "image/png": "[encoded data removed]",
      "text/plain": [
       "plot without title"
      ]
     },
     "metadata": {
      "image/png": {
       "height": 420,
       "width": 420
      }
     },
     "output_type": "display_data"
    }
   ],
   "source": [
    "CV_error=read.table('CV_error')\n",
    "\n",
    "plot((CV_error),  xlab=\"K\",\n",
    "        ylab=\"CV value\")"
   ]
  }
 ],
 "metadata": {
  "kernelspec": {
   "display_name": "R",
   "language": "R",
   "name": "ir"
  },
  "language_info": {
   "codemirror_mode": "r",
   "file_extension": ".r",
   "mimetype": "text/x-r-source",
   "name": "R",
   "pygments_lexer": "r",
   "version": "3.6.3"
  }
 },
 "nbformat": 4,
 "nbformat_minor": 5
}
